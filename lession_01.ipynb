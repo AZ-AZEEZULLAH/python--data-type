{
  "nbformat": 4,
  "nbformat_minor": 0,
  "metadata": {
    "colab": {
      "provenance": [],
      "authorship_tag": "ABX9TyO4A0w9uVCRL4GVZh5L4mgy",
      "include_colab_link": true
    },
    "kernelspec": {
      "name": "python3",
      "display_name": "Python 3"
    },
    "language_info": {
      "name": "python"
    }
  },
  "cells": [
    {
      "cell_type": "markdown",
      "metadata": {
        "id": "view-in-github",
        "colab_type": "text"
      },
      "source": [
        "<a href=\"https://colab.research.google.com/github/AZ-AZEEZULLAH/python--data-type/blob/main/lession_01.ipynb\" target=\"_parent\"><img src=\"https://colab.research.google.com/assets/colab-badge.svg\" alt=\"Open In Colab\"/></a>"
      ]
    },
    {
      "cell_type": "markdown",
      "source": [
        "**Lesson 1 - Completing a task list with AI**"
      ],
      "metadata": {
        "id": "KFLlsFCrnO1S"
      }
    },
    {
      "cell_type": "code",
      "source": [
        "!curl -o helper_functions.py https://raw.githubusercontent.com/panaversity/learn-cloud-native-modern-ai-python/main/04_natural_language_programming/02_ai_python_for_beginners/course1_basics/Lesson_9/helper_functions.py"
      ],
      "metadata": {
        "colab": {
          "base_uri": "https://localhost:8080/"
        },
        "id": "vC-C4Lrtnc5D",
        "outputId": "233b41cd-6ffb-4cf4-a28f-d41bbc4c9e67"
      },
      "execution_count": 1,
      "outputs": [
        {
          "output_type": "stream",
          "name": "stdout",
          "text": [
            "  % Total    % Received % Xferd  Average Speed   Time    Time     Time  Current\n",
            "                                 Dload  Upload   Total   Spent    Left  Speed\n",
            "\r  0     0    0     0    0     0      0      0 --:--:-- --:--:-- --:--:--     0\r100  3944  100  3944    0     0  16312      0 --:--:-- --:--:-- --:--:-- 16365\n"
          ]
        }
      ]
    },
    {
      "cell_type": "code",
      "source": [
        "from helper_functions import print_llm_response, get_llm_response"
      ],
      "metadata": {
        "id": "NVSvjdyBnw2C"
      },
      "execution_count": 2,
      "outputs": []
    },
    {
      "cell_type": "markdown",
      "source": [
        "**Creating a list**"
      ],
      "metadata": {
        "id": "bGp2bilFooDE"
      }
    },
    {
      "cell_type": "code",
      "source": [
        "friends_list = [\"Riaz\", \"Raza\", \"Sohail\"]"
      ],
      "metadata": {
        "id": "sRfknxRBotGb"
      },
      "execution_count": 3,
      "outputs": []
    },
    {
      "cell_type": "code",
      "source": [
        "# variable\n",
        "name:str=\"Riaz\""
      ],
      "metadata": {
        "id": "Fj9BdE3LscLC"
      },
      "execution_count": 31,
      "outputs": []
    },
    {
      "cell_type": "code",
      "source": [
        "student_name :str= \"Aslam\"\n",
        "print(  student_name)"
      ],
      "metadata": {
        "colab": {
          "base_uri": "https://localhost:8080/"
        },
        "id": "AWx0Nh0tssdY",
        "outputId": "19bdfcf1-cabd-4a76-e5d2-8c632768dbad"
      },
      "execution_count": 32,
      "outputs": [
        {
          "output_type": "stream",
          "name": "stdout",
          "text": [
            "Aslam\n"
          ]
        }
      ]
    },
    {
      "cell_type": "code",
      "source": [
        "all_students = [\"Aslam\",\"Ahmed\",\"Bakhar\"]\n",
        "all_students:list[str]=[\"Aslam\",\"Ahmed\",\"Bakhar\"]\n",
        "print(all_students)"
      ],
      "metadata": {
        "colab": {
          "base_uri": "https://localhost:8080/"
        },
        "id": "-dY4M0sAtCdJ",
        "outputId": "e7eda5df-a872-4b56-dd61-6a0e274c9c5c"
      },
      "execution_count": 33,
      "outputs": [
        {
          "output_type": "stream",
          "name": "stdout",
          "text": [
            "['Aslam', 'Ahmed', 'Bakhar']\n"
          ]
        }
      ]
    },
    {
      "cell_type": "code",
      "source": [
        "print(len(all_students))"
      ],
      "metadata": {
        "colab": {
          "base_uri": "https://localhost:8080/"
        },
        "id": "J9WMrKvTtfvd",
        "outputId": "66265b22-54d7-4648-92f9-4415a7e3d110"
      },
      "execution_count": 34,
      "outputs": [
        {
          "output_type": "stream",
          "name": "stdout",
          "text": [
            "3\n"
          ]
        }
      ]
    },
    {
      "cell_type": "code",
      "source": [
        "print(friends_list)"
      ],
      "metadata": {
        "colab": {
          "base_uri": "https://localhost:8080/"
        },
        "id": "9GczQbaGo8Ad",
        "outputId": "4fad7c4d-5eef-4169-cfcd-c17f80e0b32e"
      },
      "execution_count": 4,
      "outputs": [
        {
          "output_type": "stream",
          "name": "stdout",
          "text": [
            "['Riaz', 'Raza', 'Sohail']\n"
          ]
        }
      ]
    },
    {
      "cell_type": "code",
      "source": [
        "type(friends_list)"
      ],
      "metadata": {
        "colab": {
          "base_uri": "https://localhost:8080/"
        },
        "id": "6Gn67nXVo-lv",
        "outputId": "a6de1e23-973e-4b8f-eaec-3826a40a55ba"
      },
      "execution_count": 5,
      "outputs": [
        {
          "output_type": "execute_result",
          "data": {
            "text/plain": [
              "list"
            ]
          },
          "metadata": {},
          "execution_count": 5
        }
      ]
    },
    {
      "cell_type": "code",
      "source": [
        "prompt = f\"\"\"\n",
        "Write a set of four line birthday poems for my friends {friends_list}.\n",
        "The poems should be insipred by the first letter of each friend's name.\n",
        "\"\"\"\n",
        "print(prompt)"
      ],
      "metadata": {
        "colab": {
          "base_uri": "https://localhost:8080/"
        },
        "id": "ayWV2uKgpFaB",
        "outputId": "07cbc688-708b-419a-8eba-28e2cb74fa46"
      },
      "execution_count": 6,
      "outputs": [
        {
          "output_type": "stream",
          "name": "stdout",
          "text": [
            "\n",
            "Write a set of four line birthday poems for my friends ['Riaz', 'Raza', 'Sohail']. \n",
            "The poems should be insipred by the first letter of each friend's name.\n",
            "\n"
          ]
        }
      ]
    },
    {
      "cell_type": "code",
      "source": [
        "print_llm_response(prompt)"
      ],
      "metadata": {
        "colab": {
          "base_uri": "https://localhost:8080/",
          "height": 416
        },
        "id": "pDUvs8ThpO2w",
        "outputId": "a9ed44c0-b5af-4e40-e439-230d9340126e"
      },
      "execution_count": 7,
      "outputs": [
        {
          "output_type": "stream",
          "name": "stdout",
          "text": [
            "## Birthday Poems for Riaz, Raza, and Sohail:\n",
            "\n",
            "**For Riaz:**\n",
            "\n",
            "Radiant smile, a heart of gold,\n",
            "Inspiring all, a story to be told.\n",
            "A friend so true, a joy to behold,\n",
            "Happy birthday, Riaz, may your days be bold.\n",
            "\n",
            "**For Raza:**\n",
            "\n",
            "Remarkable spirit, shining bright,\n",
            "A zest for life, a guiding light.\n",
            "Zealous heart, filled with joy and might,\n",
            "Happy birthday, Raza, may your future be bright.\n",
            "\n",
            "**For Sohail:**\n",
            "\n",
            "Soulful laughter, a gentle breeze,\n",
            "Optimistic spirit, bringing ease.\n",
            "Hopeful dreams, a future to seize,\n",
            "Happy birthday, Sohail, may your happiness never cease. \n",
            "\n"
          ]
        }
      ]
    },
    {
      "cell_type": "code",
      "source": [
        "type(prompt)"
      ],
      "metadata": {
        "colab": {
          "base_uri": "https://localhost:8080/"
        },
        "id": "gJLgriSut4Gs",
        "outputId": "41ad2eb9-2ddf-498d-f7af-33e80ec74895"
      },
      "execution_count": 35,
      "outputs": [
        {
          "output_type": "execute_result",
          "data": {
            "text/plain": [
              "str"
            ]
          },
          "metadata": {},
          "execution_count": 35
        }
      ]
    },
    {
      "cell_type": "code",
      "source": [
        "friends_list = [\"Riaz\", \"Raza\", \"Sohail\"]"
      ],
      "metadata": {
        "id": "pSp-3BMtuPNW"
      },
      "execution_count": 36,
      "outputs": []
    },
    {
      "cell_type": "code",
      "source": [
        "friends_list[0]\n",
        "friends_list[1]\n",
        "friends_list[2]\n",
        "friends_list.append(\"Arbab\")"
      ],
      "metadata": {
        "id": "hQNdxD7BuXcd"
      },
      "execution_count": 39,
      "outputs": []
    },
    {
      "cell_type": "code",
      "source": [
        "friends_list.append(\"Riaz\")\n",
        "print(friends_list)"
      ],
      "metadata": {
        "colab": {
          "base_uri": "https://localhost:8080/"
        },
        "id": "EnWuFb4euvHQ",
        "outputId": "7205cae4-fe34-4d50-ff3c-f353abb19de4"
      },
      "execution_count": 41,
      "outputs": [
        {
          "output_type": "stream",
          "name": "stdout",
          "text": [
            "['Riaz', 'Raza', 'Sohail', 'Arbab', 'Riaz', 'Riaz']\n"
          ]
        }
      ]
    },
    {
      "cell_type": "code",
      "source": [
        "friends_list.append(30)\n",
        "print(friends_list)\n",
        "print(type(friends_list[3]))\n",
        "print(type(friends_list[4]))\n",
        "print((friends_list[5]))"
      ],
      "metadata": {
        "colab": {
          "base_uri": "https://localhost:8080/"
        },
        "id": "crDRTw95vBqI",
        "outputId": "988c8146-5fbb-44d4-debe-9ff19de5469a"
      },
      "execution_count": 45,
      "outputs": [
        {
          "output_type": "stream",
          "name": "stdout",
          "text": [
            "['Riaz', 'Raza', 'Sohail', 'Arbab', 'Riaz', 'Riaz', 30, 30, 30, 30]\n",
            "<class 'str'>\n",
            "<class 'str'>\n",
            "Riaz\n"
          ]
        }
      ]
    },
    {
      "cell_type": "code",
      "source": [
        "list_ages:list[int]=[20,21,22]\n",
        "print(list_ages)"
      ],
      "metadata": {
        "colab": {
          "base_uri": "https://localhost:8080/"
        },
        "id": "oxJL6XO6vgxP",
        "outputId": "f8d63e69-b3db-4e94-8053-1221494f66ee"
      },
      "execution_count": 46,
      "outputs": [
        {
          "output_type": "stream",
          "name": "stdout",
          "text": [
            "[20, 21, 22]\n"
          ]
        }
      ]
    },
    {
      "cell_type": "code",
      "source": [
        "task=list_of_tasks[0]\n",
        "print_llm_response(task)"
      ],
      "metadata": {
        "colab": {
          "base_uri": "https://localhost:8080/",
          "height": 208
        },
        "id": "Q7AOIUOFvtJR",
        "outputId": "7c07dc7c-0375-4b5d-ce09-356fdb6e68b5"
      },
      "execution_count": 47,
      "outputs": [
        {
          "output_type": "stream",
          "name": "stdout",
          "text": [
            "Subject: Late Arrival to [Meeting Name] Tomorrow\n",
            "\n",
            "Hi [Boss's name],\n",
            "\n",
            "Just wanted to let you know that I will be running a bit late to tomorrow's [Meeting Name] meeting. I should arrive by [estimated arrival time]. \n",
            "\n",
            "I apologize for any inconvenience this may cause. \n",
            "\n",
            "Thanks,\n",
            "[Your name] \n",
            "\n"
          ]
        }
      ]
    },
    {
      "cell_type": "code",
      "source": [
        "first_friend = friends_list[0]\n",
        "print(first_friend)"
      ],
      "metadata": {
        "colab": {
          "base_uri": "https://localhost:8080/"
        },
        "id": "aQlGS_G-pV7G",
        "outputId": "9c37607b-27e5-449f-e9be-a58517bd620c"
      },
      "execution_count": 8,
      "outputs": [
        {
          "output_type": "stream",
          "name": "stdout",
          "text": [
            "Riaz\n"
          ]
        }
      ]
    },
    {
      "cell_type": "code",
      "source": [
        "print(friends_list[1])"
      ],
      "metadata": {
        "colab": {
          "base_uri": "https://localhost:8080/"
        },
        "id": "48yu_ERHpfBp",
        "outputId": "0e7bb8c1-3d1e-4a83-8cdf-31d8c2978cc7"
      },
      "execution_count": 9,
      "outputs": [
        {
          "output_type": "stream",
          "name": "stdout",
          "text": [
            "Raza\n"
          ]
        }
      ]
    },
    {
      "cell_type": "code",
      "source": [
        "print(friends_list[3])"
      ],
      "metadata": {
        "colab": {
          "base_uri": "https://localhost:8080/"
        },
        "id": "8Ffc1C5gpl4S",
        "outputId": "a58b50cd-e359-486c-e30e-6dcf5b3743cf"
      },
      "execution_count": 48,
      "outputs": [
        {
          "output_type": "stream",
          "name": "stdout",
          "text": [
            "Arbab\n"
          ]
        }
      ]
    },
    {
      "cell_type": "code",
      "source": [
        "print(friends_list[2])"
      ],
      "metadata": {
        "colab": {
          "base_uri": "https://localhost:8080/"
        },
        "id": "AE-g_zi7pswQ",
        "outputId": "d8f32537-a43d-4421-e478-e423cef329b8"
      },
      "execution_count": 11,
      "outputs": [
        {
          "output_type": "stream",
          "name": "stdout",
          "text": [
            "Sohail\n"
          ]
        }
      ]
    },
    {
      "cell_type": "code",
      "source": [
        "print(friends_list)"
      ],
      "metadata": {
        "colab": {
          "base_uri": "https://localhost:8080/"
        },
        "id": "jJjiTtUcpzbY",
        "outputId": "b92dc15a-682e-4b2d-9f53-c07cdc00489e"
      },
      "execution_count": 12,
      "outputs": [
        {
          "output_type": "stream",
          "name": "stdout",
          "text": [
            "['Riaz', 'Raza', 'Sohail']\n"
          ]
        }
      ]
    },
    {
      "cell_type": "code",
      "source": [
        "# add single element to list\n",
        "friends_list.append(\"Arbab\")"
      ],
      "metadata": {
        "id": "mJorkQHEp6IM"
      },
      "execution_count": 13,
      "outputs": []
    },
    {
      "cell_type": "code",
      "source": [
        "print(friends_list)"
      ],
      "metadata": {
        "colab": {
          "base_uri": "https://localhost:8080/"
        },
        "id": "tsYh72rWqCfL",
        "outputId": "c6bb9646-3711-41af-ae02-87abee8f4038"
      },
      "execution_count": 14,
      "outputs": [
        {
          "output_type": "stream",
          "name": "stdout",
          "text": [
            "['Riaz', 'Raza', 'Sohail', 'Arbab']\n"
          ]
        }
      ]
    },
    {
      "cell_type": "code",
      "source": [
        "# Modify the code below to add another friend:\n",
        "friends_list.append(\"Ali\")"
      ],
      "metadata": {
        "id": "tZfkC5wxqHhK"
      },
      "execution_count": 16,
      "outputs": []
    },
    {
      "cell_type": "code",
      "source": [
        "#using remove\n",
        "friends_list.remove(\"Raza\")"
      ],
      "metadata": {
        "id": "B5dksVDeqUoZ"
      },
      "execution_count": 18,
      "outputs": []
    },
    {
      "cell_type": "code",
      "source": [
        "print(friends_list)"
      ],
      "metadata": {
        "colab": {
          "base_uri": "https://localhost:8080/"
        },
        "id": "YsGFAI8bqlsi",
        "outputId": "a8119db5-3fa5-4afc-e5b8-c45bb3c6809d"
      },
      "execution_count": 19,
      "outputs": [
        {
          "output_type": "stream",
          "name": "stdout",
          "text": [
            "['Riaz', 'Sohail', 'Arbab', 'Ali']\n"
          ]
        }
      ]
    },
    {
      "cell_type": "code",
      "source": [
        "list_ages = [42, 28, 30]"
      ],
      "metadata": {
        "id": "SHs7fZqUqtH7"
      },
      "execution_count": 20,
      "outputs": []
    },
    {
      "cell_type": "code",
      "source": [
        "print(list_ages)"
      ],
      "metadata": {
        "colab": {
          "base_uri": "https://localhost:8080/"
        },
        "id": "nn9tXKvTq0Lj",
        "outputId": "a2619c7d-183c-4b34-9627-8d19fefa7d05"
      },
      "execution_count": 21,
      "outputs": [
        {
          "output_type": "stream",
          "name": "stdout",
          "text": [
            "[42, 28, 30]\n"
          ]
        }
      ]
    },
    {
      "cell_type": "code",
      "source": [
        "#list of tasks in priority order. Multi-line lists are allowed in python!\n",
        "list_of_tasks = [\n",
        "    \"Compose a brief email to my boss explaining that I will be late for tomorrow's meeting.\",\n",
        "    \"Write a birthday poem for Otto, celebrating his 28th birthday.\",\n",
        "    \"Write a 300-word review of the movie 'The Arrival'.\"\n",
        "]"
      ],
      "metadata": {
        "id": "s4pkvQ15q4sj"
      },
      "execution_count": 22,
      "outputs": []
    },
    {
      "cell_type": "code",
      "source": [
        "task = list_of_tasks[0]\n",
        "print_llm_response(task)"
      ],
      "metadata": {
        "colab": {
          "base_uri": "https://localhost:8080/",
          "height": 228
        },
        "id": "gDdxH-LZrAGS",
        "outputId": "21067f1f-0208-4d02-bb4b-b049049f0182"
      },
      "execution_count": 23,
      "outputs": [
        {
          "output_type": "stream",
          "name": "stdout",
          "text": [
            "Subject: Late to Meeting Tomorrow\n",
            "\n",
            "Hi [Boss's Name],\n",
            "\n",
            "Just wanted to let you know that I will be running a bit late to tomorrow's meeting at [time].  [Briefly explain reason for lateness, e.g.,  I have a doctor's appointment in the morning]. \n",
            "\n",
            "I apologize for any inconvenience this may cause and will be there as soon as possible. \n",
            "\n",
            "Thanks,\n",
            "[Your Name] \n",
            "\n"
          ]
        }
      ]
    },
    {
      "cell_type": "code",
      "source": [
        "task = list_of_tasks[1]\n",
        "print_llm_response(task)"
      ],
      "metadata": {
        "colab": {
          "base_uri": "https://localhost:8080/",
          "height": 364
        },
        "id": "PeypB_IbrIbx",
        "outputId": "a3810595-d6c8-4c15-bd6d-b6049a4838a7"
      },
      "execution_count": 24,
      "outputs": [
        {
          "output_type": "stream",
          "name": "stdout",
          "text": [
            "Twenty-eight candles flicker bright,\n",
            "Otto, on this special night.\n",
            "Another year of laughter, fun,\n",
            "Adventures had, and battles won.\n",
            "\n",
            "A heart of gold, a mind so keen,\n",
            "A friend so true, a spirit keen.\n",
            "You light up every room you grace,\n",
            "With kindness, wit, and a charming face.\n",
            "\n",
            "So raise a glass, let's sing a song,\n",
            "For Otto, where he truly belongs.\n",
            "May this year bring joy and cheer,\n",
            "And every wish, be ever clear.\n",
            "\n",
            "Happy birthday, dear friend, we say,\n",
            "May your future be bright as day.\n",
            "Enjoy this day, make memories new,\n",
            "And know that we love you, it's true. \n",
            "\n"
          ]
        }
      ]
    },
    {
      "cell_type": "code",
      "source": [
        "task = list_of_tasks[2]\n",
        "print_llm_response(task)"
      ],
      "metadata": {
        "colab": {
          "base_uri": "https://localhost:8080/",
          "height": 245
        },
        "id": "0UGkBj4nrR8D",
        "outputId": "3027ee74-c082-4356-af9d-a85f51f730ef"
      },
      "execution_count": 25,
      "outputs": [
        {
          "output_type": "stream",
          "name": "stdout",
          "text": [
            "## The Arrival: A Quiet Triumph of Human Connection\n",
            "\n",
            "Denis Villeneuve's \"The Arrival\" is a thought-provoking and emotionally resonant sci-fi drama that transcends the genre's typical tropes. It's not about explosions or alien invasions, but about the power of communication, understanding, and embracing the unknown. \n",
            "\n",
            "The film follows Louise Banks (Amy Adams), a linguist tasked with deciphering the language of extraterrestrial visitors who have mysteriously landed on Earth. With the world on edge, Louise faces a daunting task -  breaking down communication barriers and unraveling the aliens' intentions.  \n",
            "\n",
            "Villeneuve masterfully weaves a story that is both intimate and epic. The film's pacing is deliberate, allowing the audience to fully absorb Louise's emotional journey as she grapples with the profound implications of the encounter.  Adams delivers a nuanced and compelling performance, capturing Louise's intelligence, vulnerability, and unwavering determination.\n",
            "\n",
            "The film's strength lies not only in its captivating plot but also in its masterful use of visual storytelling and sound design. The alien language, a series of swirling, luminous symbols, becomes a captivating visual metaphor for the complexity of communication. The score, composed by Jóhann Jóhannsson, is hauntingly beautiful, adding an extra layer of emotional depth to the film.\n",
            "\n",
            "\"The Arrival\" is not a typical science fiction film. It's a meditation on the human condition, exploring themes of time, memory, and the enduring power of love and connection.  The film's conclusion is both heartbreaking and hopeful, leaving a lasting impact on the viewer long after the credits roll.  It's a must-see for anyone who appreciates intelligent and moving storytelling that transcends the boundaries of genre. \n",
            "\n"
          ]
        }
      ]
    },
    {
      "cell_type": "code",
      "source": [
        "# Create a list with the titles\n",
        "# of five of your favorite movies\n",
        "\n",
        "### WRITE CODE HERE ###\n",
        "movie_list =\n",
        "### --------------- ###"
      ],
      "metadata": {
        "colab": {
          "base_uri": "https://localhost:8080/",
          "height": 106
        },
        "id": "7XXiS3iJrWZa",
        "outputId": "27b386cf-e451-4385-9046-e5f677a38630"
      },
      "execution_count": 26,
      "outputs": [
        {
          "output_type": "error",
          "ename": "SyntaxError",
          "evalue": "invalid syntax (<ipython-input-26-cbd92d07ddcf>, line 5)",
          "traceback": [
            "\u001b[0;36m  File \u001b[0;32m\"<ipython-input-26-cbd92d07ddcf>\"\u001b[0;36m, line \u001b[0;32m5\u001b[0m\n\u001b[0;31m    movie_list =\u001b[0m\n\u001b[0m                 ^\u001b[0m\n\u001b[0;31mSyntaxError\u001b[0m\u001b[0;31m:\u001b[0m invalid syntax\n"
          ]
        }
      ]
    },
    {
      "cell_type": "code",
      "source": [
        "# Display the fourth element of\n",
        "# the following list using print()\n",
        "\n",
        "prime_numbers = [2, 3, 5, 7, 11]\n",
        "\n",
        "### WRITE CODE HERE ###\n",
        "\n",
        "### --------------- ###"
      ],
      "metadata": {
        "id": "hZBNKI7Grgsj"
      },
      "execution_count": 27,
      "outputs": []
    },
    {
      "cell_type": "code",
      "source": [
        "# Fix the bug in the following code\n",
        "\n",
        "prime_numbers = [2, 3, 5, 7, 11]\n",
        "\n",
        "### FIX THIS CODE ###\n",
        "print(prime_numbers(3)) #access and print() the fourth element\n",
        "### --------------- ###"
      ],
      "metadata": {
        "colab": {
          "base_uri": "https://localhost:8080/",
          "height": 193
        },
        "id": "akjHvtJqrquy",
        "outputId": "e10d750f-e0d7-43a8-edbe-13f3fd0f400d"
      },
      "execution_count": 28,
      "outputs": [
        {
          "output_type": "error",
          "ename": "TypeError",
          "evalue": "'list' object is not callable",
          "traceback": [
            "\u001b[0;31m---------------------------------------------------------------------------\u001b[0m",
            "\u001b[0;31mTypeError\u001b[0m                                 Traceback (most recent call last)",
            "\u001b[0;32m<ipython-input-28-c5a9ace8185a>\u001b[0m in \u001b[0;36m<cell line: 6>\u001b[0;34m()\u001b[0m\n\u001b[1;32m      4\u001b[0m \u001b[0;34m\u001b[0m\u001b[0m\n\u001b[1;32m      5\u001b[0m \u001b[0;31m### FIX THIS CODE ###\u001b[0m\u001b[0;34m\u001b[0m\u001b[0;34m\u001b[0m\u001b[0m\n\u001b[0;32m----> 6\u001b[0;31m \u001b[0mprint\u001b[0m\u001b[0;34m(\u001b[0m\u001b[0mprime_numbers\u001b[0m\u001b[0;34m(\u001b[0m\u001b[0;36m3\u001b[0m\u001b[0;34m)\u001b[0m\u001b[0;34m)\u001b[0m \u001b[0;31m#access and print() the fourth element\u001b[0m\u001b[0;34m\u001b[0m\u001b[0;34m\u001b[0m\u001b[0m\n\u001b[0m\u001b[1;32m      7\u001b[0m \u001b[0;31m### --------------- ###\u001b[0m\u001b[0;34m\u001b[0m\u001b[0;34m\u001b[0m\u001b[0m\n",
            "\u001b[0;31mTypeError\u001b[0m: 'list' object is not callable"
          ]
        }
      ]
    },
    {
      "cell_type": "code",
      "source": [
        "# Add one name to friends_list using append\n",
        "\n",
        "friends_list = [\"Tommy\", \"Isabel\", \"Daniel\", \"Otto\"]\n",
        "\n",
        "### WRITE CODE HERE ###\n",
        "\n",
        "### --------------- ###\n",
        "\n",
        "print(friends_list)"
      ],
      "metadata": {
        "colab": {
          "base_uri": "https://localhost:8080/"
        },
        "id": "TBTJ1B2yrt4i",
        "outputId": "40e4a8d4-8dd6-4fef-93de-8a4157ca3ba1"
      },
      "execution_count": 29,
      "outputs": [
        {
          "output_type": "stream",
          "name": "stdout",
          "text": [
            "['Tommy', 'Isabel', 'Daniel', 'Otto']\n"
          ]
        }
      ]
    },
    {
      "cell_type": "code",
      "source": [
        "# In the following code, remove the country\n",
        "# that is not in South America\n",
        "\n",
        "countries_in_south_america = [\"Colombia\", \"Peru\",\n",
        "                              \"Brasil\", \"Japan\",\n",
        "                              \"Argentina\"]\n",
        "\n",
        "### WRITE CODE HERE ###\n",
        "\n",
        "### --------------- ###\n",
        "\n",
        "print(countries_in_south_america)"
      ],
      "metadata": {
        "colab": {
          "base_uri": "https://localhost:8080/"
        },
        "id": "gHQ3djyRr1PU",
        "outputId": "c2bbc1af-9e3e-4337-8d71-449fd9c4c69c"
      },
      "execution_count": 30,
      "outputs": [
        {
          "output_type": "stream",
          "name": "stdout",
          "text": [
            "['Colombia', 'Peru', 'Brasil', 'Japan', 'Argentina']\n"
          ]
        }
      ]
    }
  ]
}