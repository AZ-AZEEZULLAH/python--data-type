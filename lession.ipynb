{
  "nbformat": 4,
  "nbformat_minor": 0,
  "metadata": {
    "colab": {
      "provenance": [],
      "authorship_tag": "ABX9TyOfZktU0OH50klCOg5272Q6",
      "include_colab_link": true
    },
    "kernelspec": {
      "name": "python3",
      "display_name": "Python 3"
    },
    "language_info": {
      "name": "python"
    }
  },
  "cells": [
    {
      "cell_type": "markdown",
      "metadata": {
        "id": "view-in-github",
        "colab_type": "text"
      },
      "source": [
        "<a href=\"https://colab.research.google.com/github/AZ-AZEEZULLAH/python--data-type/blob/main/lession.ipynb\" target=\"_parent\"><img src=\"https://colab.research.google.com/assets/colab-badge.svg\" alt=\"Open In Colab\"/></a>"
      ]
    },
    {
      "cell_type": "markdown",
      "source": [
        "***Lesson 2 - Repeating tasks with for loops***"
      ],
      "metadata": {
        "id": "YYJiFf9dzffB"
      }
    },
    {
      "cell_type": "code",
      "source": [
        "### Download helper_function.py\n",
        "# * Set Secrets Variable for Gemini\n",
        "# * `GEMINI_API_KEY`\n",
        "\n",
        "!curl -o helper_functions.py https://raw.githubusercontent.com/panaversity/learn-cloud-native-modern-ai-python/main/04_natural_language_programming/02_ai_python_for_beginners/course1_basics/Lesson_9/helper_functions.py"
      ],
      "metadata": {
        "colab": {
          "base_uri": "https://localhost:8080/"
        },
        "id": "GKtPky-yzpGe",
        "outputId": "ef161b1f-3b09-4864-d8c2-cf8e652fdf10"
      },
      "execution_count": 1,
      "outputs": [
        {
          "output_type": "stream",
          "name": "stdout",
          "text": [
            "  % Total    % Received % Xferd  Average Speed   Time    Time     Time  Current\n",
            "                                 Dload  Upload   Total   Spent    Left  Speed\n",
            "\r  0     0    0     0    0     0      0      0 --:--:-- --:--:-- --:--:--     0\r  0     0    0     0    0     0      0      0 --:--:-- --:--:-- --:--:--     0\r100  3944  100  3944    0     0  13649      0 --:--:-- --:--:-- --:--:-- 13647\n"
          ]
        }
      ]
    },
    {
      "cell_type": "code",
      "source": [
        "from helper_functions import print_llm_response, get_llm_response"
      ],
      "metadata": {
        "id": "u2-UB0Ulz9mi"
      },
      "execution_count": 2,
      "outputs": []
    },
    {
      "cell_type": "code",
      "source": [
        "#from previous lesson:\n",
        "list_of_tasks = [\n",
        "    \"Compose a brief email to my boss explaining that I will be late for tomorrow's meeting.\",\n",
        "    \"Write a birthday poem for Otto, celebrating his 28th birthday.\",\n",
        "    \"Write a 300-word review of the movie 'The Arrival'.\"\n",
        "]\n",
        "print(list_of_tasks)"
      ],
      "metadata": {
        "colab": {
          "base_uri": "https://localhost:8080/"
        },
        "id": "SM79-DzZ0B7W",
        "outputId": "d2d440be-ede4-48f8-a8b6-13b309540290"
      },
      "execution_count": 3,
      "outputs": [
        {
          "output_type": "stream",
          "name": "stdout",
          "text": [
            "[\"Compose a brief email to my boss explaining that I will be late for tomorrow's meeting.\", 'Write a birthday poem for Otto, celebrating his 28th birthday.', \"Write a 300-word review of the movie 'The Arrival'.\"]\n"
          ]
        }
      ]
    },
    {
      "cell_type": "code",
      "source": [
        "#from previous lesson:\n",
        "list_of_tasks = [\n",
        "    \"Compose a brief email to my boss explaining that I will be late for tomorrow's meeting.\",\n",
        "    \"Write a birthday poem for Otto, celebrating his 28th birthday.\",\n",
        "    \"Write a 300-word review of the movie 'The Arrival'.\"\n",
        "]\n",
        "print(list_of_tasks)"
      ],
      "metadata": {
        "colab": {
          "base_uri": "https://localhost:8080/"
        },
        "id": "_avMV4sR0cIr",
        "outputId": "630fd7dd-9323-4b25-e2c9-45f4422250f3"
      },
      "execution_count": 4,
      "outputs": [
        {
          "output_type": "stream",
          "name": "stdout",
          "text": [
            "[\"Compose a brief email to my boss explaining that I will be late for tomorrow's meeting.\", 'Write a birthday poem for Otto, celebrating his 28th birthday.', \"Write a 300-word review of the movie 'The Arrival'.\"]\n"
          ]
        }
      ]
    },
    {
      "cell_type": "code",
      "source": [
        "print(list_of_tasks)"
      ],
      "metadata": {
        "colab": {
          "base_uri": "https://localhost:8080/"
        },
        "id": "3cnREVxb0e4H",
        "outputId": "2560e249-e194-4133-d9cd-33c240f1adc5"
      },
      "execution_count": 5,
      "outputs": [
        {
          "output_type": "stream",
          "name": "stdout",
          "text": [
            "[\"Compose a brief email to my boss explaining that I will be late for tomorrow's meeting.\", 'Write a birthday poem for Otto, celebrating his 28th birthday.', \"Write a 300-word review of the movie 'The Arrival'.\"]\n"
          ]
        }
      ]
    },
    {
      "cell_type": "code",
      "source": [
        "print(list_of_tasks[0])"
      ],
      "metadata": {
        "colab": {
          "base_uri": "https://localhost:8080/"
        },
        "id": "Lyy5Alaz0u8A",
        "outputId": "175733dd-6283-4d61-fa1a-72fab912c56b"
      },
      "execution_count": 6,
      "outputs": [
        {
          "output_type": "stream",
          "name": "stdout",
          "text": [
            "Compose a brief email to my boss explaining that I will be late for tomorrow's meeting.\n"
          ]
        }
      ]
    },
    {
      "cell_type": "code",
      "source": [
        "print(list_of_tasks[2])"
      ],
      "metadata": {
        "colab": {
          "base_uri": "https://localhost:8080/"
        },
        "id": "EXCTKhd501c_",
        "outputId": "b7f9f280-24a0-4588-98e8-82d47159292f"
      },
      "execution_count": 7,
      "outputs": [
        {
          "output_type": "stream",
          "name": "stdout",
          "text": [
            "Write a 300-word review of the movie 'The Arrival'.\n"
          ]
        }
      ]
    },
    {
      "cell_type": "code",
      "source": [
        "for task in list_of_tasks:\n",
        "    print(task,\"New Value\")"
      ],
      "metadata": {
        "colab": {
          "base_uri": "https://localhost:8080/"
        },
        "id": "VwZnW3cz1BLf",
        "outputId": "07967522-8544-49ce-ff97-f27e8274f5ea"
      },
      "execution_count": 9,
      "outputs": [
        {
          "output_type": "stream",
          "name": "stdout",
          "text": [
            "Compose a brief email to my boss explaining that I will be late for tomorrow's meeting. New Value\n",
            "Write a birthday poem for Otto, celebrating his 28th birthday. New Value\n",
            "Write a 300-word review of the movie 'The Arrival'. New Value\n"
          ]
        }
      ]
    },
    {
      "cell_type": "code",
      "source": [
        "task = list_of_tasks[0]\n",
        "print_llm_response(task)"
      ],
      "metadata": {
        "colab": {
          "base_uri": "https://localhost:8080/",
          "height": 208
        },
        "id": "_Xd4RosR1ayY",
        "outputId": "4d697bad-2638-4e3b-b4db-813d12ee3bba"
      },
      "execution_count": 10,
      "outputs": [
        {
          "output_type": "stream",
          "name": "stdout",
          "text": [
            "Subject: Running Late for Tomorrow's Meeting\n",
            "\n",
            "Hi [Boss's name],\n",
            "\n",
            "I'm writing to let you know that I will be running slightly late for tomorrow's meeting at [meeting time]. I expect to arrive around [estimated arrival time]. \n",
            "\n",
            "I apologize for any inconvenience this may cause.\n",
            "\n",
            "Best,\n",
            "[Your name] \n",
            "\n"
          ]
        }
      ]
    },
    {
      "cell_type": "code",
      "source": [
        "for task in list_of_tasks:\n",
        "    print(\"Task Start\")\n",
        "    print_llm_response(task)\n",
        "    print(\"Task Complet\")"
      ],
      "metadata": {
        "colab": {
          "base_uri": "https://localhost:8080/",
          "height": 818
        },
        "id": "I8s5hny11fdI",
        "outputId": "8da1ac17-69ae-4d64-819b-207f5489f4d3"
      },
      "execution_count": 12,
      "outputs": [
        {
          "output_type": "stream",
          "name": "stdout",
          "text": [
            "Task Start\n",
            "Subject: Running Late for Tomorrow's Meeting\n",
            "\n",
            "Hi [Boss's name],\n",
            "\n",
            "Just wanted to let you know that I will be running a bit late for tomorrow's meeting at [Time]. I should arrive around [Estimated Arrival Time]. \n",
            "\n",
            "I apologize for any inconvenience this may cause. \n",
            "\n",
            "Thanks,\n",
            "\n",
            "[Your Name] \n",
            "\n",
            "Task Complet\n",
            "Task Start\n",
            "To Otto, on this day of twenty-eight,\n",
            "We raise a glass, a toast to celebrate!\n",
            "A year older, wiser, and still so grand,\n",
            "A friend, a brother, a helping hand.\n",
            "\n",
            "With laughter bright and spirit bold,\n",
            "Your stories told, your heart unfolds.\n",
            "Through life's adventures, you've bravely trod,\n",
            "A spirit strong, a heart of gold.\n",
            "\n",
            "So let us gather, friends and kin,\n",
            "To raise a cheer, let the birthday begin!\n",
            "May joy and laughter fill the air,\n",
            "Happy birthday, Otto, with love to spare! \n",
            "\n",
            "Task Complet\n",
            "Task Start\n",
            "## The Arrival: A Quietly Powerful Meditation on Communication and Loss\n",
            "\n",
            "Denis Villeneuve's \"The Arrival\" is not your typical alien invasion film. Instead of explosions and battles, it offers a contemplative and deeply moving exploration of communication, loss, and the human experience in the face of the unknown. \n",
            "\n",
            "The film centers on Louise Banks (Amy Adams), a linguist tasked with deciphering the language of alien beings who have mysteriously landed on Earth. As Louise delves into the alien's complex, non-linear way of communicating, she finds herself confronted with the profound impact of their presence on her own life, particularly her memories of past, present, and future.\n",
            "\n",
            "Villeneuve masterfully creates a palpable sense of awe and wonder through stunning visuals and the masterful use of sound. The aliens themselves, with their unique form and language, are both enigmatic and beautiful, prompting a sense of fascination rather than fear.\n",
            "\n",
            "Adams delivers a nuanced and emotionally resonant performance, conveying Louise's struggle with the weight of her task and the personal toll it takes on her. Her journey is one of both intellectual discovery and emotional vulnerability, making her a relatable and compelling protagonist.\n",
            "\n",
            "\"The Arrival\" is not a film for those seeking action-packed entertainment. It demands patience and a willingness to engage with its complex themes. However, for those who appreciate thoughtful storytelling and a profound examination of human connection, this film will leave a lasting impact. It is a quiet, but powerful meditation on the fragility of life, the importance of communication, and the enduring power of love. \n",
            "\n",
            "Task Complet\n"
          ]
        }
      ]
    },
    {
      "cell_type": "code",
      "source": [
        "for task in list_of_tasks:\n",
        "    print(task)"
      ],
      "metadata": {
        "colab": {
          "base_uri": "https://localhost:8080/"
        },
        "id": "W4cHhHCP2F9Z",
        "outputId": "0bd245cb-7ed6-43e5-aa50-a3a71bb2d3e1"
      },
      "execution_count": 13,
      "outputs": [
        {
          "output_type": "stream",
          "name": "stdout",
          "text": [
            "Compose a brief email to my boss explaining that I will be late for tomorrow's meeting.\n",
            "Write a birthday poem for Otto, celebrating his 28th birthday.\n",
            "Write a 300-word review of the movie 'The Arrival'.\n"
          ]
        }
      ]
    },
    {
      "cell_type": "code",
      "source": [
        "for task in list_of_tasks:\n",
        "    print_llm_response(task)"
      ],
      "metadata": {
        "colab": {
          "base_uri": "https://localhost:8080/",
          "height": 697
        },
        "id": "Mu8pEyeD2NiR",
        "outputId": "581ba8d4-53de-4513-ba04-b4a60e2a31d9"
      },
      "execution_count": 14,
      "outputs": [
        {
          "output_type": "stream",
          "name": "stdout",
          "text": [
            "Subject: Running Late for Tomorrow's Meeting\n",
            "\n",
            "Hi [Boss's Name],\n",
            "\n",
            "I'm writing to let you know that I will be running late for tomorrow's meeting at [Time]. I should arrive by [Estimated Arrival Time].\n",
            "\n",
            "I apologize for any inconvenience this may cause.\n",
            "\n",
            "Best,\n",
            "[Your Name] \n",
            "\n",
            "Twenty-eight years have flown by, \n",
            "Otto, a man with a twinkle in your eye.\n",
            "From childhood dreams to adulthood's grace,\n",
            "You've carved your path with a smile on your face.\n",
            "\n",
            "Through laughter and tears, you've stood strong and true,\n",
            "A friend to all, loyal and anew.\n",
            "With kindness and wit, you light up the room,\n",
            "A beacon of joy, dispelling all gloom.\n",
            "\n",
            "So raise a glass, let's celebrate this day,\n",
            "As Otto turns twenty-eight, hooray!\n",
            "May this year be filled with joy and delight,\n",
            "And may your future shine ever so bright. \n",
            "\n",
            "## The Arrival: A Silent, Thought-Provoking Journey\n",
            "\n",
            "\"The Arrival\" is not your typical alien invasion movie. It's a quiet, contemplative film that delves into the complexities of communication, cultural understanding, and the fear of the unknown.  The film centers on Louise Banks (Amy Adams), a linguist tasked with deciphering the language of alien beings who have landed on Earth.  \n",
            "\n",
            "Director Denis Villeneuve masterfully builds tension and wonder through stunning visuals and a haunting score. The alien vessels, towering and enigmatic, are both awe-inspiring and unsettling. The film's use of silence is particularly powerful, allowing the audience to experience the profound sense of mystery and isolation that Louise faces. \n",
            "\n",
            "Adams delivers a captivating performance as Louise, conveying her determination, vulnerability, and growing understanding of the alien language. The film explores the philosophical implications of language and its impact on perception and reality, challenging viewers to consider the limitations of their own understanding. \n",
            "\n",
            "\"The Arrival\" is not a movie for everyone. Its slow pace and focus on introspection may alienate some viewers seeking action or thrills. However, for those willing to embrace its contemplative approach, it offers a deeply moving and thought-provoking experience. The film's exploration of communication, empathy, and the search for meaning in a complex world resonates long after the credits roll.\n",
            "\n",
            "Ultimately, \"The Arrival\" is a film that encourages us to listen, to be open to new perspectives, and to recognize the power of communication in bridging the divides that separate us. It's a film that leaves you pondering the vastness of the universe and the mysteries that lie beyond our comprehension. \n",
            "\n"
          ]
        }
      ]
    },
    {
      "cell_type": "code",
      "source": [
        "\n",
        "\n",
        "for task in list_of_tasks:\n",
        "    print_llm_response(task)\n"
      ],
      "metadata": {
        "colab": {
          "base_uri": "https://localhost:8080/",
          "height": 714
        },
        "id": "xB7aWB9S2aDv",
        "outputId": "8aa8df4a-8504-42c6-cd2d-c72a0d377603"
      },
      "execution_count": 16,
      "outputs": [
        {
          "output_type": "stream",
          "name": "stdout",
          "text": [
            "Subject: Running Late for Tomorrow's Meeting\n",
            "\n",
            "Hi [Boss's name],\n",
            "\n",
            "I'm writing to let you know that I will be running late for tomorrow's meeting at [Time]. I will be [briefly explain reason for lateness]. I apologize for any inconvenience this may cause and will join the meeting as soon as possible. \n",
            "\n",
            "Thanks,\n",
            "[Your name] \n",
            "\n",
            "To Otto, dear, on this twenty-eighth day,\n",
            "We raise a glass, and shout \"Hooray!\"\n",
            "Another year has flown by fast,\n",
            "A time for joy, and memories to last.\n",
            "\n",
            "You've grown and changed, it's true,\n",
            "But your kind heart shines through and through.\n",
            "Your laughter rings, a joyful sound,\n",
            "And love and friendship, always abound.\n",
            "\n",
            "So let us celebrate this special day,\n",
            "With smiles and laughter, come what may.\n",
            "May all your wishes come to pass,\n",
            "And happiness forever last.\n",
            "\n",
            "Happy birthday, Otto, may your day be bright,\n",
            "Filled with love and laughter, shining light. \n",
            "\n",
            "## The Arrival: A Quietly Powerful Exploration of Loss and Connection\n",
            "\n",
            "\"The Arrival\" is a subtle and thought-provoking film that avoids overt melodrama and instead relies on quiet moments of introspection and a powerful sense of mystery. Amy Adams delivers a captivating performance as Louise Banks, a linguist tasked with deciphering the language of alien visitors who have arrived on Earth.\n",
            "\n",
            "The film masterfully balances the thrill of the unknown with the deeply personal journey of Louise, grappling with the loss of her young daughter and struggling to connect with her estranged husband. The alien language, a complex system of visual symbols, becomes a metaphor for the human struggle for communication and understanding, both within ourselves and with others.\n",
            "\n",
            "Director Denis Villeneuve expertly builds tension and suspense, using minimal dialogue and relying heavily on visual storytelling. The film's visuals are breathtaking, showcasing both the vastness of space and the intricate beauty of the alien ship. The score, composed by Jóhann Jóhannsson, is haunting and evocative, perfectly complementing the film's contemplative tone.\n",
            "\n",
            "\"The Arrival\" is not a film for everyone. Its slow pace and lack of action may frustrate some viewers. But for those willing to engage with its themes of loss, grief, and the search for meaning, it offers a deeply moving and rewarding cinematic experience. It challenges us to consider the power of language, the importance of human connection, and the profound impact of even the smallest moments in life. \n",
            "\n",
            "The film leaves us pondering the nature of time, the meaning of existence, and the possibility of forging connections beyond our own species. It is a testament to the power of storytelling to evoke profound emotions and inspire meaningful reflection.\n",
            "\n"
          ]
        }
      ]
    },
    {
      "cell_type": "code",
      "source": [
        "#ice cream flavor example\n",
        "ice_cream_flavors = [\n",
        "    \"Vanilla\",\n",
        "    \"Chocolate\",\n",
        "    \"Strawberry\",\n",
        "    \"Mint Chocolate Chip\"\n",
        "]"
      ],
      "metadata": {
        "id": "vgbw5pQk2mXA"
      },
      "execution_count": 17,
      "outputs": []
    },
    {
      "cell_type": "code",
      "source": [
        "for flavor in ice_cream_flavors:\n",
        "    prompt = f\"\"\"For the ice cream flavor listed below,\n",
        "    provide a captivating description that could be used for promotional purposes.\n",
        "\n",
        "    Flavor: {flavor}\n",
        "\n",
        "    \"\"\"\n",
        "    print_llm_response(prompt)"
      ],
      "metadata": {
        "colab": {
          "base_uri": "https://localhost:8080/",
          "height": 558
        },
        "id": "YN12bGxB2vro",
        "outputId": "8683fa27-b3d5-4a65-b51c-5b0b6bfcac35"
      },
      "execution_count": 18,
      "outputs": [
        {
          "output_type": "stream",
          "name": "stdout",
          "text": [
            "## Vanilla: The Symphony of Simplicity\n",
            "\n",
            "**Don't be fooled by its unassuming name.** This isn't just any vanilla. This is a **luxurious symphony of flavor**, crafted with the finest vanilla beans from Madagascar. Each spoonful is an **explosion of creamy richness** and **subtle floral notes**, leaving you with a **sweet and comforting warmth** that lingers long after the last lick. \n",
            "\n",
            "**Vanilla: The timeless classic, redefined.**\n",
            "\n",
            "## Indulge in the Darkest Delight: Chocolate Ice Cream\n",
            "\n",
            "**This isn't your ordinary chocolate.** Forget watery, artificial flavors -  this is a **rich, decadent journey** through velvety smooth, intensely chocolaty bliss. Crafted with the finest cocoa beans, every bite is a **luxurious symphony** of sweet, dark, and undeniably delicious.  \n",
            "\n",
            "**Imagine:**\n",
            "\n",
            "* The **first creamy scoop**, melting on your tongue, revealing a **complex symphony of flavors**, from the deep, roasted notes of cocoa to a hint of subtle sweetness.\n",
            "*  **The perfect dessert** to savor on a warm summer evening, or a **comforting indulgence** on a chilly winter night. \n",
            "* A **universal favorite** that satisfies both the chocolate connoisseur and the casual ice cream lover.\n",
            "\n",
            "**Don't just taste chocolate, experience it.** **Indulge in the dark side of deliciousness.** \n",
            "\n",
            "## Dive into Summer with Every Bite: Strawberry Bliss \n",
            "\n",
            "**Our Strawberry ice cream is a symphony of sunshine and sweetness.**  Imagine a perfect summer day – ripe, juicy strawberries bursting with flavor, kissed by the warm sun.  That's the taste you'll experience in every spoonful of our Strawberry Bliss.  Made with real, fresh strawberries, this creamy delight is a taste of summer that will transport you to a field of juicy berries.  \n",
            "\n",
            "**Don't just eat ice cream, enjoy a strawberry experience!** \n",
            "\n",
            "## Dive into a world of cool refreshment with our Mint Chocolate Chip! \n",
            "\n",
            "Imagine this: smooth, creamy mint ice cream, bursting with rich, dark chocolate chips. Each spoonful is a delightful dance of cool minty freshness and decadent chocolate indulgence. It's the perfect treat for any occasion, whether you're craving a refreshing escape on a hot day or simply seeking a classic, irresistible flavor.  \n",
            "\n",
            "**This is more than just ice cream, it's a taste of pure bliss.** \n",
            "\n"
          ]
        }
      ]
    },
    {
      "cell_type": "code",
      "source": [
        "# prompt: pls fix error cell 19\n",
        "\n",
        "from helper_functions import print_llm_response, get_llm_response\n",
        "# ***Lesson 2 - Repeating tasks with for loops***\n",
        "### Download helper_function.py\n",
        "# * Set Secrets Variable for Gemini\n",
        "# * `GEMINI_API_KEY`\n",
        "\n",
        "!curl -o helper_functions.py https://raw.githubusercontent.com/panaversity/learn-cloud-native-modern-ai-python/main/04_natural_language_programming/02_ai_python_for_beginners/course1_basics/Lesson_9/helper_functions.py\n",
        "#from previous lesson:\n",
        "list_of_tasks = [\n",
        "    \"Compose a brief email to my boss explaining that I will be late for tomorrow's meeting.\",\n",
        "    \"Write a birthday poem for Otto, celebrating his 28th birthday.\",\n",
        "    \"Write a 300-word review of the movie 'The Arrival'.\"\n",
        "]\n",
        "print(list_of_tasks)\n",
        "#from previous lesson:\n",
        "list_of_tasks = [\n",
        "    \"Compose a brief email to my boss explaining that I will be late for tomorrow's meeting.\",\n",
        "    \"Write a birthday poem for Otto, celebrating his 28th birthday.\",\n",
        "    \"Write a 300-word review of the movie 'The Arrival'.\"\n",
        "]\n",
        "print(list_of_tasks)\n",
        "print(list_of_tasks)\n",
        "print(list_of_tasks[0])\n",
        "print(list_of_tasks[2])\n",
        "for task in list_of_tasks:\n",
        "    print(task,\"New Value\")\n",
        "task = list_of_tasks[0]\n",
        "print_llm_response(task)\n",
        "for task in list_of_tasks:\n",
        "    print(\"Task Start\")\n",
        "    print_llm_response(task)\n",
        "    print(\"Task Complet\")\n",
        "for task in list_of_tasks:\n",
        "    print(task)\n",
        "for task in list_of_tasks:\n",
        "    print_llm_response(task)\n",
        "\n",
        "\n",
        "for task in list_of_tasks:\n",
        "    print_llm_response(task)\n",
        "\n",
        "#ice cream flavor example\n",
        "ice_cream_flavors = [\n",
        "    \"Vanilla\",\n",
        "    \"Chocolate\",\n",
        "    \"Strawberry\",\n",
        "    \"Mint Chocolate Chip\"\n",
        "]\n",
        "promotional_descriptions = []\n",
        "for flavor in ice_cream_flavors:\n",
        "    prompt = f\"\"\"For the ice cream flavor listed below,\n",
        "    provide a captivating description that could be used for promotional purposes.\n",
        "\n",
        "    Flavor: {flavor}\n",
        "\n",
        "    \"\"\"\n",
        "    try:\n",
        "        description = get_llm_response(prompt)\n",
        "        promotional_descriptions.append(description)\n",
        "    except Exception as e:\n",
        "        print(f\"Error processing flavor {flavor}: {e}\")\n",
        "        promotional_descriptions.append(f\"Error processing flavor {flavor}: {e}\")\n"
      ],
      "metadata": {
        "colab": {
          "base_uri": "https://localhost:8080/",
          "height": 1000
        },
        "id": "LRd5YY4R3CXB",
        "outputId": "7edc7044-e93c-4888-c35f-da426fcba460"
      },
      "execution_count": 20,
      "outputs": [
        {
          "output_type": "stream",
          "name": "stdout",
          "text": [
            "  % Total    % Received % Xferd  Average Speed   Time    Time     Time  Current\n",
            "                                 Dload  Upload   Total   Spent    Left  Speed\n",
            "100  3944  100  3944    0     0  13947      0 --:--:-- --:--:-- --:--:-- 13985\n",
            "[\"Compose a brief email to my boss explaining that I will be late for tomorrow's meeting.\", 'Write a birthday poem for Otto, celebrating his 28th birthday.', \"Write a 300-word review of the movie 'The Arrival'.\"]\n",
            "[\"Compose a brief email to my boss explaining that I will be late for tomorrow's meeting.\", 'Write a birthday poem for Otto, celebrating his 28th birthday.', \"Write a 300-word review of the movie 'The Arrival'.\"]\n",
            "[\"Compose a brief email to my boss explaining that I will be late for tomorrow's meeting.\", 'Write a birthday poem for Otto, celebrating his 28th birthday.', \"Write a 300-word review of the movie 'The Arrival'.\"]\n",
            "Compose a brief email to my boss explaining that I will be late for tomorrow's meeting.\n",
            "Write a 300-word review of the movie 'The Arrival'.\n",
            "Compose a brief email to my boss explaining that I will be late for tomorrow's meeting. New Value\n",
            "Write a birthday poem for Otto, celebrating his 28th birthday. New Value\n",
            "Write a 300-word review of the movie 'The Arrival'. New Value\n",
            "Subject: Late Arrival to [Meeting Name] Tomorrow\n",
            "\n",
            "Hi [Boss's name],\n",
            "\n",
            "Just letting you know that I will be a few minutes late to tomorrow's meeting at [time] due to [brief reason, e.g., a doctor's appointment]. I apologize for any inconvenience this may cause.\n",
            "\n",
            "I'll be sure to catch up on any missed information. \n",
            "\n",
            "Best,\n",
            "[Your name] \n",
            "\n",
            "Task Start\n",
            "Subject: Late to Tomorrow's Meeting\n",
            "\n",
            "Hi [Boss's name],\n",
            "\n",
            "Just wanted to let you know that I will be running a bit late for tomorrow's meeting at [time]. I should arrive by [estimated arrival time]. \n",
            "\n",
            "I apologize for any inconvenience this may cause.\n",
            "\n",
            "Best,\n",
            "[Your name] \n",
            "\n",
            "Task Complet\n",
            "Task Start\n",
            "To Otto, dear, on this special day,\n",
            "Where twenty-eight candles brightly sway,\n",
            "We gather 'round to sing your praise,\n",
            "For all the joy you bring our ways.\n",
            "\n",
            "Your laughter bright, your heart so true,\n",
            "A friend so kind, a soul anew,\n",
            "You fill our lives with warmth and cheer,\n",
            "A birthday wish, for many more years.\n",
            "\n",
            "May laughter echo, spirits soar,\n",
            "As you embark on adventures more,\n",
            "With dreams to chase and goals to reach,\n",
            "May every day bring you success and peace.\n",
            "\n",
            "So raise a glass, let's make a toast,\n",
            "To Otto, who we love the most,\n",
            "Happy birthday, dear friend so true,\n",
            "May all your wishes come to you. \n",
            "\n",
            "Task Complet\n",
            "Task Start\n",
            "## The Arrival: A Thought-Provoking Journey Through Time and Language\n",
            "\n",
            "Denis Villeneuve's \"The Arrival\" is a masterclass in science fiction, weaving a captivating narrative that delves into the profound implications of alien contact. The film centers on Dr. Louise Banks, a brilliant linguist tasked with deciphering the language of alien beings who have arrived on Earth in twelve mysterious ships.\n",
            "\n",
            "Villeneuve crafts an immersive experience, using stunning visuals and a haunting score to create a sense of both awe and apprehension. The alien language, rendered in mesmerizing visual metaphors, is a fascinating and deeply affecting element, serving as a bridge between human and extraterrestrial understanding. \n",
            "\n",
            "The film's exploration of time and memory is equally captivating. As Louise dives deeper into the alien language, her perception of time becomes increasingly fluid, blurring the lines between past, present, and future. This powerful concept is handled with both sensitivity and intelligence, leaving the viewer contemplating the nature of human experience and the possibility of a shared future.\n",
            "\n",
            "\"The Arrival\" is more than just a sci-fi spectacle. It's a thoughtful and moving examination of communication, empathy, and the power of language to bridge cultural and temporal divides. Amy Adams delivers a nuanced and emotionally resonant performance as Louise, capturing the character's intellectual curiosity and profound emotional journey.\n",
            "\n",
            "While the film's pacing may feel deliberate for some, it contributes to the overall atmosphere of contemplation and mystery. \"The Arrival\" is not a film that offers easy answers, but rather one that challenges our assumptions and encourages us to look at the world through a different lens. It is a film that lingers in the mind long after the credits roll, prompting reflection and inspiring a sense of wonder about the universe and our place within it. \n",
            "\n",
            "Task Complet\n",
            "Compose a brief email to my boss explaining that I will be late for tomorrow's meeting.\n",
            "Write a birthday poem for Otto, celebrating his 28th birthday.\n",
            "Write a 300-word review of the movie 'The Arrival'.\n",
            "Subject: Late Arrival to Tomorrow's Meeting\n",
            "\n",
            "Hi [Boss's Name],\n",
            "\n",
            "Just wanted to let you know that I will be running a bit late to tomorrow's meeting. I should arrive around [estimated arrival time]. \n",
            "\n",
            "Apologies for any inconvenience this may cause.\n",
            "\n",
            "Best,\n",
            "[Your Name] \n",
            "\n",
            "To Otto, on this day of mirth,\n",
            "We celebrate your twenty-eighth on Earth.\n",
            "A year older, wiser, and more bright,\n",
            "May your day be filled with joy and light.\n",
            "\n",
            "With laughter echoing through the years,\n",
            "May happiness banish all your fears.\n",
            "Let friends and family surround you near,\n",
            "With love and warmth, dispelling all the drear.\n",
            "\n",
            "May your dreams continue to take flight,\n",
            "And all your aspirations shine so bright.\n",
            "May life's adventures fill your days,\n",
            "With countless smiles and endless praise.\n",
            "\n",
            "So raise a glass, let's make a toast,\n",
            "To Otto, a friend we love the most.\n",
            "May this birthday bring you all you crave,\n",
            "And may your future be forever brave. \n",
            "\n",
            "## The Arrival: A Silent Symphony of Human Connection\n",
            "\n",
            "Denis Villeneuve's \"The Arrival\" is a masterpiece of science fiction, weaving a profound narrative about communication, grief, and the nature of time. The film follows Louise Banks, a brilliant linguist tasked with deciphering the language of alien visitors. As she dives into the enigmatic, circular script, Louise confronts not only the alien intellect but also her own past trauma and the impending threat of global conflict.\n",
            "\n",
            "The film excels in its stunning visuals, capturing the awe-inspiring presence of the alien ships and the intricate beauty of the alien language. The minimal dialogue and reliance on visual storytelling create an immersive experience, drawing the audience into Louise's world of sensory overload and intellectual struggle. Amy Adams delivers a captivating performance, conveying both Louise's vulnerability and her unwavering determination. The emotional core of the film rests on her nuanced portrayal of grief and the search for connection in the face of the unknown.\n",
            "\n",
            "\"The Arrival\" is more than just a sci-fi thriller; it's a meditation on the power of empathy and the interconnectedness of human experience. Villeneuve masterfully blends scientific curiosity with the emotional weight of human relationships, creating a poignant and thought-provoking film. The film challenges traditional notions of time and causality, offering a unique and compelling perspective on the possibilities of interspecies communication and understanding.\n",
            "\n",
            "While some may find the pacing slow and the themes abstract, \"The Arrival\" rewards patient viewers with a deeply moving and intellectually stimulating experience. It's a film that lingers long after the credits roll, prompting reflection on our place in the universe and the potential for human connection in the face of fear and uncertainty. \n",
            "\n",
            "Subject: Running Late for Tomorrow's Meeting\n",
            "\n",
            "Hi [Boss's name],\n",
            "\n",
            "Just wanted to let you know that I will be running a bit late to tomorrow's meeting at [time]. I will be there as soon as possible, and I apologize for any inconvenience this may cause.\n",
            "\n",
            "Best,\n",
            "[Your name] \n",
            "\n",
            "To Otto, a friend so kind and true,\n",
            "On your twenty-eighth birthday, we celebrate you!\n",
            "Twenty-eight years you've graced this Earth,\n",
            "A testament to your strength and worth.\n",
            "\n",
            "Your laughter brightens every day,\n",
            "Your smile chases the blues away.\n",
            "You're a friend who's always there,\n",
            "With a helping hand and a heart to share.\n",
            "\n",
            "So raise a glass to Otto today,\n",
            "May joy and laughter light your way.\n",
            "May all your wishes come to be,\n",
            "Happy birthday, dear Otto, to you from me! \n",
            "\n",
            "## The Arrival: A Quietly Powerful Meditation on Language, Loss, and the Future\n",
            "\n",
            "Denis Villeneuve's \"The Arrival\" is not your typical sci-fi blockbuster. It eschews explosions and chases in favor of a contemplative exploration of language, communication, and the profound impact of loss. The film centers on Louise Banks (Amy Adams), a brilliant linguist tasked with deciphering the language of alien visitors who have arrived on Earth. \n",
            "\n",
            "Villeneuve masterfully builds suspense, not with jump scares or action sequences, but with the sheer weight of the unknown. The film's slow pace allows the audience to fully immerse themselves in Louise's journey, her struggle to understand the aliens' complex language and the growing pressure of deciphering their intentions.  \n",
            "\n",
            "Adams delivers a nuanced and emotionally resonant performance, conveying Louise's intellectual prowess, her grief over the loss of her daughter, and her growing understanding of the alien civilization. Jeremy Renner offers capable support as Ian Donnelly, a physicist who is initially skeptical of Louise's methods but eventually becomes her partner in this incredible quest. \n",
            "\n",
            "\"The Arrival\" is visually stunning, with stunning cinematography and a haunting score that adds to the film's overall atmosphere of mystery and wonder. The film masterfully blends scientific concepts with emotional depth, creating a thought-provoking narrative that challenges the audience to consider their own perspectives on communication, time, and the interconnectedness of all living beings. \n",
            "\n",
            "While not for everyone, \"The Arrival\" is a cinematic masterpiece that stays with you long after the credits roll. It's a powerful meditation on the human experience, reminding us that communication, in all its forms, is the key to understanding ourselves and the universe around us. \n",
            "\n"
          ]
        }
      ]
    },
    {
      "cell_type": "code",
      "source": [
        "# Translate the flavors in ice_cream_flavors to Spanish\n",
        "ice_cream_flavors = [\"Vanilla\", \"Strawberry\"]\n",
        "\n",
        "for flavor in ice_cream_flavors:\n",
        "    ### EDIT THE FOLLOWING CODE ###\n",
        "    #Hint: you only need to add one or two sentences to the prompt\n",
        "    prompt = f\"\"\"For the ice cream flavor listed below,\n",
        "\n",
        "    \"\"\"\n",
        "    ### --------------- ###\n",
        "    print_llm_response(prompt)"
      ],
      "metadata": {
        "colab": {
          "base_uri": "https://localhost:8080/",
          "height": 86
        },
        "id": "Z7iJBTDp3XLk",
        "outputId": "715f0d1d-185d-45c9-bc88-f1e2f85b3398"
      },
      "execution_count": 21,
      "outputs": [
        {
          "output_type": "stream",
          "name": "stdout",
          "text": [
            "Please provide the ice cream flavor you'd like me to respond to. I need the flavor name to give you a relevant response. 😊 \n",
            "\n",
            "Please provide the ice cream flavor! I need the flavor to be able to assist you with your request. 🍦 \n",
            "\n"
          ]
        }
      ]
    },
    {
      "cell_type": "code",
      "source": [
        "# Write code to get a list with\n",
        "# words without typos\n",
        "\n",
        "words_with_typos = [\"Aple\", \"Wether\", \"Newpaper\"]\n",
        "words_without_typos = []\n",
        "\n",
        "for word in words_with_typos:\n",
        "    prompt = f\"\"\"Fix the spelling mistake in the following word: {word}\n",
        "    Provide only the word.\n",
        "    \"\"\"\n",
        "    correct_word = get_llm_response(prompt)\n",
        "    ### WRITE CODE HERE  ###\n",
        "    #Hint: Append the correct_word to the words_without_typos list\n",
        "    ### --------------- ###\n",
        "\n",
        "print(words_without_typos)"
      ],
      "metadata": {
        "colab": {
          "base_uri": "https://localhost:8080/",
          "height": 34
        },
        "id": "o8n7_j5e3dnN",
        "outputId": "8eaca7e5-f3ce-486e-97f7-c05850a45767"
      },
      "execution_count": 22,
      "outputs": [
        {
          "output_type": "stream",
          "name": "stdout",
          "text": [
            "[]\n"
          ]
        }
      ]
    }
  ]
}